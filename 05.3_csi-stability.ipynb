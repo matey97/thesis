{
 "cells": [
  {
   "cell_type": "raw",
   "metadata": {
    "vscode": {
     "languageId": "raw"
    }
   },
   "source": [
    "---\n",
    "description: Analyses the temporal stability of the Wi-Fi CSI data collected with ESP32 microcontrollers.   \n",
    "code-tools:\n",
    "  toggle: true\n",
    "format:\n",
    "  html:\n",
    "    code-links:\n",
    "      - binder\n",
    "      - text: Python functions\n",
    "        icon: file-code\n",
    "        href: https://github.com/matey97/thesis/blob/main/libs/chapter5/analysis\n",
    "        target: blank\n",
    "jupyter: python\n",
    "--- "
   ]
  },
  {
   "cell_type": "markdown",
   "metadata": {},
   "source": [
    "# Temporal stability of Wi-Fi CSI data from ESP32 microcontrollers {#sec-csi_stability}"
   ]
  },
  {
   "cell_type": "markdown",
   "metadata": {},
   "source": []
  }
 ],
 "metadata": {
  "language_info": {
   "name": "python"
  }
 },
 "nbformat": 4,
 "nbformat_minor": 2
}
