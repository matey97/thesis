{
 "cells": [
  {
   "cell_type": "raw",
   "metadata": {
    "vscode": {
     "languageId": "raw"
    }
   },
   "source": [
    "---\n",
    "description: Validates the employed methods in the previous sections to discard them as causes of the poor results.\n",
    "code-tools:\n",
    "  toggle: true\n",
    "format:\n",
    "  html:\n",
    "    code-links:\n",
    "      - binder\n",
    "      - text: Python functions\n",
    "        icon: file-code\n",
    "        href: https://github.com/matey97/thesis/blob/main/libs/chapter5/analysis\n",
    "        target: blank\n",
    "jupyter: python\n",
    "---  "
   ]
  },
  {
   "cell_type": "markdown",
   "metadata": {},
   "source": [
    "# Validation of employed methods {#sec-methods_validation}"
   ]
  },
  {
   "cell_type": "markdown",
   "metadata": {},
   "source": []
  }
 ],
 "metadata": {
  "language_info": {
   "name": "python"
  }
 },
 "nbformat": 4,
 "nbformat_minor": 2
}
