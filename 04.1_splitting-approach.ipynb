{
 "cells": [
  {
   "cell_type": "raw",
   "metadata": {
    "vscode": {
     "languageId": "raw"
    }
   },
   "source": [
    "---\n",
    "description: Determines which activity splitting approach provides better accuracy results.\n",
    "image: figs/chapter4/directions.svg\n",
    "code-tools:\n",
    "  toggle: true\n",
    "filters:\n",
    "  - add-code-files\n",
    "format:\n",
    "  html:\n",
    "    code-links:\n",
    "      - binder\n",
    "      - text: 01_relabel.py\n",
    "        icon: file-code\n",
    "        href: https://github.com/matey97/thesis/blob/main/libs/chapter4/pipeline/01_relabel.py\n",
    "        target: blank\n",
    "      - text: 02_splitting-evaluation.py\n",
    "        icon: file-code\n",
    "        href: https://github.com/matey97/thesis/blob/main/libs/chapter4/pipeline/02_splitting-evaluation.py\n",
    "        target: blank\n",
    "      - text: Python functions\n",
    "        icon: file-code\n",
    "        href: https://github.com/matey97/thesis/blob/main/libs/chapter4/analysis\n",
    "        target: blank\n",
    "jupyter: python\n",
    "---  "
   ]
  },
  {
   "cell_type": "markdown",
   "metadata": {},
   "source": [
    "# Splitting approach analysis {#sec-splitting_approach}"
   ]
  },
  {
   "cell_type": "markdown",
   "metadata": {},
   "source": [
    "As previously noted, the main output of the TUG test (i.e., completioin time) can be decomposed into several components (i.e., subphases). In the literature, there seem to be different approaches to this decomposition: some authors break down the subphases of the test into *standing_up*, *first_walk*, *first_turn*, *second_walk*, *second_turn* and *sitting_down* [@zakaria2014;@madhushri2016;@beyea2017;@coelln2019]. Others consider the last two subphases into a single one combining the last turn and the sitting down activities into the *turn_to_sit* subphase [@salarian2010;@adame2012tug;@milosevic2013quantifying;@ansai2019performance]. \n",
    "\n",
    "From the two splitting approaches used in the literature, we train several models with four different datasets obtained from the dataset described in [@sec-dataset]:\n",
    "\n",
    "- *sw_turning_and_sitting* (**sw_ts**): accelerometer and gyroscope data from a smartwatch, labelled with `SEATED`, `STANDING_UP`, `WALKING`, `TURNING` and `SITTING_DOWN` activities.\n",
    "- *sp_turning_and_sitting* (**sp_ts**): accelerometer and gyroscope data from a smartphone, labelled with `SEATED`, `STANDING_UP`, `WALKING`, `TURNING` and `SITTING_DOWN` activities.\n",
    "- *sw_turn_to_sit* (**sw_tts**): accelerometer and gyroscope data from a smartwatch, labelled with `SEATED`, `STANDING_UP`, `WALKING`, `TURNING` and `TURN_TO_SIT` activities.\n",
    "- *sp_turn_to_sit* (**sp_tts**): accelerometer and gyroscope data from a smartphone, labelled with `SEATED`, `STANDING_UP`, `WALKING`, `TURNING` and `TURN_TO_SIT` activities.\n",
    "\n",
    "The **ts** datasets were generated in the previous chapter, while the **tts** datasets were generated using the `01_relabel.py` script:\n",
    "\n",
    "::: {add-from=libs/chapter4/pipeline/01_relabel.py code-fold='true' code-filename='01_relabel.py'}\n",
    "```{.python}\n",
    "```\n",
    ":::\n",
    "\n",
    "Then, for each dataset, $100$ models were trained using $80\\%$ of the subjects as training subjects and the remaining $20\\%$ as testing subjects. This proces was executed using the `02_splitting-evaluation.py` script.\n",
    "\n",
    "::: {add-from=libs/chapter4/pipeline/02_splitting-evaluation.py code-fold='true' code-filename='02_splitting-evaluation.py'}\n",
    "```{.python}\n",
    "```\n",
    ":::\n"
   ]
  },
  {
   "cell_type": "markdown",
   "metadata": {},
   "source": [
    "## Results"
   ]
  },
  {
   "cell_type": "code",
   "execution_count": 1,
   "metadata": {},
   "outputs": [
    {
     "name": "stderr",
     "output_type": "stream",
     "text": [
      "/opt/homebrew/Caskroom/miniforge/base/envs/tf310/lib/python3.9/site-packages/outdated/utils.py:14: OutdatedPackageWarning: The package pingouin is out of date. Your version is 0.5.3, the latest is 0.5.5.\n",
      "Set the environment variable OUTDATED_IGNORE=1 to disable these warnings.\n",
      "  return warn(\n"
     ]
    }
   ],
   "source": [
    "from libs.chapter4.analysis.data_loading import load_reports\n",
    "from libs.chapter4.analysis.statistical_tests import compare_splitting_approaches\n",
    "\n",
    "reports = load_reports()"
   ]
  },
  {
   "cell_type": "markdown",
   "metadata": {},
   "source": [
    "[@tbl-comparison] compares the overall accuracy and F1-scores of `TURNING` and `SITTING_DOWN` from one side, and `TURN_TO_SIT` activities from the other side, obtained for each data source -- smartwatch (**sw**) or smartphone (**sp**) -- and splitting approach -- *turning* and *sitting down* (**ts**) or *turn_to_sit* (**tts**) -- from the trained models. The overall accuracy obtained with the models trained with the **ts** is statistically better than the ones trained with the **tts** datasets. Moreover, the F1-score of the `TURNING` activity is statistically worse in the **tts** datasets due to the reduced number of training samples for that activity compared with the **ts** datasets, caused by the fact that the `TURN_TO_SIT` activity includes the `TURNING` activity (which is one of the other activities to be individually detected). In addition, the F1-score of the `TURN_TO_SIT` activity is low compared with the scores of `TURNING` and `SITTING_DOWN` in the **ts** datasets."
   ]
  },
  {
   "cell_type": "code",
   "execution_count": 2,
   "metadata": {},
   "outputs": [
    {
     "name": "stderr",
     "output_type": "stream",
     "text": [
      "/opt/homebrew/Caskroom/miniforge/base/envs/tf310/lib/python3.9/site-packages/scipy/stats/_continuous_distns.py:6832: RuntimeWarning: overflow encountered in _nct_sf\n",
      "  return np.clip(_boost._nct_sf(x, df, nc), 0, 1)\n",
      "/opt/homebrew/Caskroom/miniforge/base/envs/tf310/lib/python3.9/site-packages/scipy/stats/_continuous_distns.py:6826: RuntimeWarning: overflow encountered in _nct_cdf\n",
      "  return np.clip(_boost._nct_cdf(x, df, nc), 0, 1)\n",
      "/opt/homebrew/Caskroom/miniforge/base/envs/tf310/lib/python3.9/site-packages/scipy/stats/_continuous_distns.py:6832: RuntimeWarning: overflow encountered in _nct_sf\n",
      "  return np.clip(_boost._nct_sf(x, df, nc), 0, 1)\n",
      "/opt/homebrew/Caskroom/miniforge/base/envs/tf310/lib/python3.9/site-packages/scipy/stats/_continuous_distns.py:6826: RuntimeWarning: overflow encountered in _nct_cdf\n",
      "  return np.clip(_boost._nct_cdf(x, df, nc), 0, 1)\n",
      "/opt/homebrew/Caskroom/miniforge/base/envs/tf310/lib/python3.9/site-packages/scipy/stats/_continuous_distns.py:6832: RuntimeWarning: overflow encountered in _nct_sf\n",
      "  return np.clip(_boost._nct_sf(x, df, nc), 0, 1)\n",
      "/opt/homebrew/Caskroom/miniforge/base/envs/tf310/lib/python3.9/site-packages/scipy/stats/_continuous_distns.py:6826: RuntimeWarning: overflow encountered in _nct_cdf\n",
      "  return np.clip(_boost._nct_cdf(x, df, nc), 0, 1)\n"
     ]
    },
    {
     "data": {
      "text/html": [
       "<div>\n",
       "<style scoped>\n",
       "    .dataframe tbody tr th:only-of-type {\n",
       "        vertical-align: middle;\n",
       "    }\n",
       "\n",
       "    .dataframe tbody tr th {\n",
       "        vertical-align: top;\n",
       "    }\n",
       "\n",
       "    .dataframe thead th {\n",
       "        text-align: right;\n",
       "    }\n",
       "</style>\n",
       "<table border=\"1\" class=\"dataframe\">\n",
       "  <thead>\n",
       "    <tr style=\"text-align: right;\">\n",
       "      <th></th>\n",
       "      <th>source</th>\n",
       "      <th>metric</th>\n",
       "      <th>turning_sitting</th>\n",
       "      <th>turn_to_sit</th>\n",
       "      <th>two-tailed test</th>\n",
       "    </tr>\n",
       "  </thead>\n",
       "  <tbody>\n",
       "    <tr>\n",
       "      <th>0</th>\n",
       "      <td>sw</td>\n",
       "      <td>accuracy</td>\n",
       "      <td>0.848</td>\n",
       "      <td>0.809</td>\n",
       "      <td>t(198)=13.459315696940894, p-val=0.0, power=1.0</td>\n",
       "    </tr>\n",
       "    <tr>\n",
       "      <th>1</th>\n",
       "      <td>sw</td>\n",
       "      <td>f1-turning</td>\n",
       "      <td>0.795</td>\n",
       "      <td>0.565</td>\n",
       "      <td>t(172.92193683041882)=44.34041443328367, p-val...</td>\n",
       "    </tr>\n",
       "    <tr>\n",
       "      <th>2</th>\n",
       "      <td>sw</td>\n",
       "      <td>f1-sitting-down</td>\n",
       "      <td>0.804</td>\n",
       "      <td>-</td>\n",
       "      <td>-</td>\n",
       "    </tr>\n",
       "    <tr>\n",
       "      <th>3</th>\n",
       "      <td>sw</td>\n",
       "      <td>f1-turn_to_sit</td>\n",
       "      <td>-</td>\n",
       "      <td>0.735</td>\n",
       "      <td>-</td>\n",
       "    </tr>\n",
       "    <tr>\n",
       "      <th>4</th>\n",
       "      <td>sp</td>\n",
       "      <td>accuracy</td>\n",
       "      <td>0.857</td>\n",
       "      <td>0.789</td>\n",
       "      <td>U=9036.0, p-val=0.0, power=1</td>\n",
       "    </tr>\n",
       "    <tr>\n",
       "      <th>5</th>\n",
       "      <td>sp</td>\n",
       "      <td>f1-turning</td>\n",
       "      <td>0.846</td>\n",
       "      <td>0.529</td>\n",
       "      <td>t(135.5274649940879)=57.06501597390656, p-val=...</td>\n",
       "    </tr>\n",
       "    <tr>\n",
       "      <th>6</th>\n",
       "      <td>sp</td>\n",
       "      <td>f1-sitting-down</td>\n",
       "      <td>0.753</td>\n",
       "      <td>-</td>\n",
       "      <td>-</td>\n",
       "    </tr>\n",
       "    <tr>\n",
       "      <th>7</th>\n",
       "      <td>sp</td>\n",
       "      <td>f1-turn_to_sit</td>\n",
       "      <td>-</td>\n",
       "      <td>0.655</td>\n",
       "      <td>-</td>\n",
       "    </tr>\n",
       "  </tbody>\n",
       "</table>\n",
       "</div>"
      ],
      "text/plain": [
       "  source           metric turning_sitting turn_to_sit  \\\n",
       "0     sw         accuracy           0.848       0.809   \n",
       "1     sw       f1-turning           0.795       0.565   \n",
       "2     sw  f1-sitting-down           0.804           -   \n",
       "3     sw   f1-turn_to_sit               -       0.735   \n",
       "4     sp         accuracy           0.857       0.789   \n",
       "5     sp       f1-turning           0.846       0.529   \n",
       "6     sp  f1-sitting-down           0.753           -   \n",
       "7     sp   f1-turn_to_sit               -       0.655   \n",
       "\n",
       "                                     two-tailed test  \n",
       "0    t(198)=13.459315696940894, p-val=0.0, power=1.0  \n",
       "1  t(172.92193683041882)=44.34041443328367, p-val...  \n",
       "2                                                  -  \n",
       "3                                                  -  \n",
       "4                       U=9036.0, p-val=0.0, power=1  \n",
       "5  t(135.5274649940879)=57.06501597390656, p-val=...  \n",
       "6                                                  -  \n",
       "7                                                  -  "
      ]
     },
     "execution_count": 2,
     "metadata": {},
     "output_type": "execute_result"
    }
   ],
   "source": [
    "#| label: tbl-comparison\n",
    "#| tbl-cap: Overall accuracy and F1-scores of `TURNING`, `SITTING_DOWN` and `TURN_TO_SIT` for each data source and splitting approach.\n",
    "\n",
    "def get_accuracy_and_f1_scores(reports):\n",
    "    results = {}\n",
    "    for dataset_key, dataset_reports in reports.items():\n",
    "        source = dataset_key.split('_')[0]\n",
    "        if source not in results:\n",
    "            results[source] = {}\n",
    "\n",
    "        dataset_accuracies = []\n",
    "        dataset_turning = []\n",
    "        dataset_specific = []\n",
    "\n",
    "        specific_act, specific_score, key = ('SITTING_DOWN', 'f1-sitting-down', 'ts') if 'turning_and_sitting' in dataset_key else ('TURN_TO_SIT', 'f1-turn_to_sit', 'tts')\n",
    "            \n",
    "        for dataset_report in dataset_reports:\n",
    "            dataset_accuracies.append(dataset_report['accuracy'])\n",
    "            dataset_turning.append(dataset_report['TURNING']['f1-score'])\n",
    "            dataset_specific.append(dataset_report[specific_act]['f1-score'])\n",
    "\n",
    "        results[source][key] = {\n",
    "            'accuracy': dataset_accuracies,\n",
    "            'f1-turning': dataset_turning,\n",
    "            f'{specific_score}': dataset_specific\n",
    "        }\n",
    "\n",
    "    return results\n",
    "\n",
    "results = get_accuracy_and_f1_scores(reports)\n",
    "comparison = compare_splitting_approaches(results, ['accuracy', 'f1-turning', 'f1-sitting-down', 'f1-turn_to_sit'])\n",
    "comparison"
   ]
  },
  {
   "cell_type": "markdown",
   "metadata": {},
   "source": [
    "## Summary\n",
    "\n",
    "From these results, we conclude that more accurate results are obtained when considering `TURNING` and `SITTING_DOWN` as separate activities, compared to combining them, since not only the overall accuracy of the prediction model is better, but also the predictability for the `TURNING` activity. Therefore, the first approach (separate activities) will be used in the implementation and evaluation of the system."
   ]
  },
  {
   "cell_type": "markdown",
   "metadata": {},
   "source": [
    "## Code reference\n",
    "\n",
    "::: {.callout-tip}\n",
    "The documentation of the Python functions employed in this section can be found in\n",
    " [Chapter 4 reference](reference/index.qmd#chapter-4):\n",
    "\n",
    "- [`data_loading`](reference/chapter4.analysis.data_loading.qmd):\n",
    "  - [`load_reports`](reference/chapter4.analysis.data_loading.qmd#libs.chapter4.analysis.data_loading.load_reports)\n",
    "- [`statistical_tests`](reference/chapter4.analysis.statistical_tests.qmd):\n",
    "  - [`compare_splitting_approaches`](reference/chapter4.analysis.statistical_tests.qmd#libs.chapter4.analysis.statistical_tests.compare_splitting_approaches)\n",
    ":::"
   ]
  }
 ],
 "metadata": {
  "kernelspec": {
   "display_name": "tf310",
   "language": "python",
   "name": "python3"
  },
  "language_info": {
   "codemirror_mode": {
    "name": "ipython",
    "version": 3
   },
   "file_extension": ".py",
   "mimetype": "text/x-python",
   "name": "python",
   "nbconvert_exporter": "python",
   "pygments_lexer": "ipython3",
   "version": "3.9.15"
  }
 },
 "nbformat": 4,
 "nbformat_minor": 2
}
