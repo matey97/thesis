{
 "cells": [
  {
   "cell_type": "raw",
   "metadata": {
    "vscode": {
     "languageId": "raw"
    }
   },
   "source": [
    "---\n",
    "description: Analyzes the energy consumption of the developed system.\n",
    "image: figs/chapter4/battery.png\n",
    "code-tools:\n",
    "  toggle: true\n",
    "format:\n",
    "  html:\n",
    "    code-links:\n",
    "      - binder\n",
    "      - text: Python functions\n",
    "        icon: file-code\n",
    "        href: https://github.com/matey97/thesis/blob/main/libs/chapter4/analysis\n",
    "        target: blank\n",
    "jupyter: python\n",
    "---  "
   ]
  },
  {
   "cell_type": "markdown",
   "metadata": {},
   "source": [
    "# Energy consumption"
   ]
  },
  {
   "cell_type": "code",
   "execution_count": 1,
   "metadata": {},
   "outputs": [],
   "source": [
    "from libs.chapter4.analysis.battery import mean_consumption_per_device\n",
    "from libs.chapter4.analysis.data_loading import load_battery_results\n",
    "\n",
    "\n",
    "battery_df = load_battery_results()"
   ]
  },
  {
   "cell_type": "markdown",
   "metadata": {},
   "source": [
    "## Analysis\n",
    "\n",
    "@tbl-consumption shows the estimated energy consumption (% and mA) for each configuration and device (i.e., `C1` and `C2`). The average consumption per TUG execution using the system with the `C1` configuration is approximately $0.01\\%$ and $0.005\\%$ of the total battery of the smartwatch and the smartphone respectively, which is around $0.058mA$ and $0.254mA$, yielding a combined consumption of $0.312mA$. In `C2` configuration, the system consumes $0.006\\%$ of the smartphone's battery, which equals $0.307mA$. While both configurations report a similar consumption, `C1` is limited by the consumption of the smartwatch device with respect to `C2` (i.e., the smartwatch's battery would run out before the smartphone's)."
   ]
  },
  {
   "cell_type": "code",
   "execution_count": 2,
   "metadata": {},
   "outputs": [
    {
     "data": {
      "text/html": [
       "<div>\n",
       "<style scoped>\n",
       "    .dataframe tbody tr th:only-of-type {\n",
       "        vertical-align: middle;\n",
       "    }\n",
       "\n",
       "    .dataframe tbody tr th {\n",
       "        vertical-align: top;\n",
       "    }\n",
       "\n",
       "    .dataframe thead th {\n",
       "        text-align: right;\n",
       "    }\n",
       "</style>\n",
       "<table border=\"1\" class=\"dataframe\">\n",
       "  <thead>\n",
       "    <tr style=\"text-align: right;\">\n",
       "      <th></th>\n",
       "      <th></th>\n",
       "      <th>consumption (%)</th>\n",
       "      <th>consumption (mA)</th>\n",
       "    </tr>\n",
       "    <tr>\n",
       "      <th>configuration</th>\n",
       "      <th>device</th>\n",
       "      <th></th>\n",
       "      <th></th>\n",
       "    </tr>\n",
       "  </thead>\n",
       "  <tbody>\n",
       "    <tr>\n",
       "      <th rowspan=\"2\" valign=\"top\">C1</th>\n",
       "      <th>sw</th>\n",
       "      <td>0.010</td>\n",
       "      <td>0.058</td>\n",
       "    </tr>\n",
       "    <tr>\n",
       "      <th>sp-paired</th>\n",
       "      <td>0.005</td>\n",
       "      <td>0.254</td>\n",
       "    </tr>\n",
       "    <tr>\n",
       "      <th>C2</th>\n",
       "      <th>sp</th>\n",
       "      <td>0.006</td>\n",
       "      <td>0.307</td>\n",
       "    </tr>\n",
       "  </tbody>\n",
       "</table>\n",
       "</div>"
      ],
      "text/plain": [
       "                         consumption (%)  consumption (mA)\n",
       "configuration device                                      \n",
       "C1            sw                   0.010             0.058\n",
       "              sp-paired            0.005             0.254\n",
       "C2            sp                   0.006             0.307"
      ]
     },
     "execution_count": 2,
     "metadata": {},
     "output_type": "execute_result"
    }
   ],
   "source": [
    "#| label: tbl-consumption\n",
    "#| tbl-cap: \"System's energy consumption per TUG execution on its two configurations.\"\n",
    "\n",
    "mean_df = mean_consumption_per_device(battery_df)\n",
    "mean_df.round(3)"
   ]
  },
  {
   "cell_type": "markdown",
   "metadata": {},
   "source": [
    "## Summary\n",
    "\n",
    "These reported consumptions would allow to hypothetically run (without taking into account the consumption of other services running in the devices) thousands of TUG executions with a single battery load: $+10,000$ in `C1` and $+16,000$ in `C2`. Therefore, we consider that the consumption of the developed system is low, and in both cases the need for performing sufficient TUG tests on a single battery charge is comfortably covered.\n"
   ]
  },
  {
   "cell_type": "markdown",
   "metadata": {},
   "source": [
    "::: {.callout-tip}\n",
    "The documentation of the Python functions employed in this section can be found in\n",
    " [Chapter 4 reference](reference/index.qmd#chapter-4):\n",
    "\n",
    "- [`data_loading`](reference/chapter4.analysis.data_loading.qmd):\n",
    "  - [`load_battery_results`](reference/chapter4.analysis.data_loading.qmd#libs.chapter4.analysis.data_loading.load_battery_results)\n",
    "- [`battery`](reference/chapter4.analysis.battery.qmd):\n",
    "  - [`mean_consumption_per_device`](reference/chapter4.analysis.battery.qmd#libs.chapter4.analysis.battery.mean_consumption_per_device)\n",
    ":::"
   ]
  }
 ],
 "metadata": {
  "kernelspec": {
   "display_name": "tf310",
   "language": "python",
   "name": "python3"
  },
  "language_info": {
   "codemirror_mode": {
    "name": "ipython",
    "version": 3
   },
   "file_extension": ".py",
   "mimetype": "text/x-python",
   "name": "python",
   "nbconvert_exporter": "python",
   "pygments_lexer": "ipython3",
   "version": "3.9.15"
  }
 },
 "nbformat": 4,
 "nbformat_minor": 2
}
